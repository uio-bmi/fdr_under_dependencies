{
 "cells": [
  {
   "cell_type": "code",
   "execution_count": 8,
   "id": "initial_id",
   "metadata": {
    "collapsed": true,
    "ExecuteTime": {
     "end_time": "2023-12-07T12:55:36.997737Z",
     "start_time": "2023-12-07T12:55:36.990319Z"
    }
   },
   "outputs": [],
   "source": [
    "from scripts.analysis.data_generation import determine_correlation_matrix, sample_realworld_methyl_val, beta_to_m, \\\n",
    "    simulate_methyl_data, load_realworld_data\n",
    "import numpy as np\n",
    "import pandas as pd"
   ]
  },
  {
   "cell_type": "code",
   "execution_count": 9,
   "outputs": [],
   "source": [
    "def proportion_above_threshold(array, threshold):\n",
    "   return np.sum(array > threshold) / array.size\n",
    "\n",
    "def proportion_below_threshold(array, threshold):\n",
    "    return np.sum(array < threshold) / array.size\n",
    "\n",
    "realworld_data_path = \"../data/realworld_methyl_beta.h5\"\n",
    "realworld_data = load_realworld_data(file_path=realworld_data_path)\n",
    "base_config = {\n",
    "    'n_sites': 10000,\n",
    "    'n_observations': 100,\n",
    "    'dependencies': 1,\n",
    "    'bin_size_ratio': 0.3,\n",
    "    'correlation_strength': \"high\"\n",
    "}\n",
    "high_corr_config = base_config.copy()\n",
    "high_corr_smaller_bin_config = base_config.copy()\n",
    "high_corr_smaller_bin_config['bin_size_ratio'] = 0.2\n",
    "medium_corr_config = base_config.copy()\n",
    "medium_corr_config['correlation_strength'] = \"medium\"\n",
    "medium_corr_smaller_bin_config = medium_corr_config.copy()\n",
    "medium_corr_smaller_bin_config['bin_size_ratio'] = 0.2\n",
    "config_dicts = [high_corr_config, high_corr_smaller_bin_config, medium_corr_config, medium_corr_smaller_bin_config]"
   ],
   "metadata": {
    "collapsed": false,
    "ExecuteTime": {
     "end_time": "2023-12-07T12:55:38.686900Z",
     "start_time": "2023-12-07T12:55:38.095803Z"
    }
   },
   "id": "1a738bbe1679261"
  },
  {
   "cell_type": "code",
   "execution_count": 13,
   "outputs": [],
   "source": [
    "n_replicates = 1\n",
    "results_list = []\n",
    "corr_threshold = 0.4\n",
    "for config in config_dicts:\n",
    "    if config['correlation_strength'] == 'medium':\n",
    "        corr_coef_dist = [(-0.6, -0.4), (-0.1, 0.1), (0.4, 0.6)]\n",
    "    elif config['correlation_strength'] == 'high':\n",
    "        corr_coef_dist = [(-0.85, -0.7), (-0.1, 0.1), (0.7, 0.85)]\n",
    "    sub_results_dict = {\"correlation_strength\": config['correlation_strength'], \"bin_size_ratio\": config['bin_size_ratio'],\n",
    "                    'above_threshold': np.array([]), 'below_threshold': np.array([])}\n",
    "    for i  in range(n_replicates):\n",
    "        simulated_data = simulate_methyl_data(realworld_data, config['n_sites'], config['n_observations'],\n",
    "                                                      config['dependencies'],\n",
    "                                                      int(config['bin_size_ratio'] * config['n_sites']), corr_coef_dist)\n",
    "        corr_mat = determine_correlation_matrix(simulated_data)\n",
    "        corr_mat = np.triu(corr_mat, k=1)\n",
    "        thresholded_corr_mat = corr_mat[np.abs(corr_mat) > corr_threshold]\n",
    "        quantiles = np.percentile(thresholded_corr_mat, np.arange(0, 101, 25))\n",
    "        intervals = [(round(quantiles[i], 2), round(quantiles[i + 1], 2)) for i in range(len(quantiles) - 1)]\n",
    "        sub_results_dict['above_threshold'] = np.append(sub_results_dict['above_threshold'], proportion_above_threshold(corr_mat, corr_threshold))\n",
    "        sub_results_dict['below_threshold'] = np.append(sub_results_dict['below_threshold'], proportion_below_threshold(corr_mat, -(corr_threshold)))\n",
    "        sub_results_dict['intervals'] = intervals\n",
    "    results_list.append(sub_results_dict)\n",
    "sub_results_dict = {\"correlation_strength\": \"not_applicable\", \"bin_size_ratio\": \"not_applicable\",\n",
    "                    'above_threshold': np.array([]), 'below_threshold': np.array([])}\n",
    "for i in range(n_replicates):\n",
    "    semi_real_world_data = sample_realworld_methyl_val(n_sites=10000, realworld_data=realworld_data)\n",
    "    semi_real_world_data = beta_to_m(methyl_beta_values=semi_real_world_data)\n",
    "    np.random.shuffle(semi_real_world_data)\n",
    "    corr_mat = determine_correlation_matrix(semi_real_world_data)\n",
    "    corr_mat = np.triu(corr_mat, k=1)\n",
    "    thresholded_corr_mat = corr_mat[np.abs(corr_mat) > corr_threshold]\n",
    "    quantiles = np.percentile(thresholded_corr_mat, np.arange(0, 101, 25))\n",
    "    intervals = [(round(quantiles[i], 2), round(quantiles[i + 1], 2)) for i in range(len(quantiles) - 1)]\n",
    "    sub_results_dict['above_threshold'] = np.append(sub_results_dict['above_threshold'], proportion_above_threshold(corr_mat, 0.3))\n",
    "    sub_results_dict['below_threshold'] = np.append(sub_results_dict['below_threshold'], proportion_below_threshold(corr_mat, -0.3))\n",
    "    sub_results_dict['intervals'] = intervals\n",
    "results_list.append(sub_results_dict)\n",
    "\n"
   ],
   "metadata": {
    "collapsed": false,
    "ExecuteTime": {
     "end_time": "2023-12-07T13:12:11.993255Z",
     "start_time": "2023-12-07T13:07:47.519650Z"
    }
   },
   "id": "a7820fb827f8b989"
  },
  {
   "cell_type": "code",
   "execution_count": 14,
   "outputs": [],
   "source": [
    "\n",
    "for every_dict in results_list:\n",
    "    every_dict['above_threshold_mean'] = every_dict['above_threshold'].mean()\n",
    "    every_dict['above_threshold_std'] = every_dict['above_threshold'].std()\n",
    "    every_dict['below_threshold_mean'] = every_dict['below_threshold'].mean()\n",
    "    every_dict['below_threshold_std'] = every_dict['below_threshold'].std()\n",
    "    del every_dict['above_threshold']\n",
    "    del every_dict['below_threshold']\n",
    "# make a dataframe of results_list by concatenating all the dicts in the list\n",
    "results_df = pd.DataFrame(results_list)"
   ],
   "metadata": {
    "collapsed": false,
    "ExecuteTime": {
     "end_time": "2023-12-07T13:12:42.432575Z",
     "start_time": "2023-12-07T13:12:42.428749Z"
    }
   },
   "id": "9fec4bbf6e6dce79"
  },
  {
   "cell_type": "code",
   "execution_count": 17,
   "outputs": [
    {
     "data": {
      "text/plain": "  correlation_strength  bin_size_ratio  \\\n0                 high             0.3   \n1                 high             0.2   \n2               medium             0.3   \n3               medium             0.2   \n4       not_applicable  not_applicable   \n\n                                           intervals  above_threshold_mean  \\\n0  [(-0.91, 0.58), (0.58, 0.64), (0.64, 0.71), (0...              0.088839   \n1  [(-0.91, 0.54), (0.54, 0.59), (0.59, 0.64), (0...              0.057659   \n2  [(-0.69, 0.41), (0.41, 0.43), (0.43, 0.46), (0...              0.004551   \n3  [(-0.75, 0.41), (0.41, 0.43), (0.43, 0.45), (0...              0.003893   \n4  [(-0.95, 0.42), (0.42, 0.48), (0.48, 0.57), (0...              0.108272   \n\n   above_threshold_std  below_threshold_mean  below_threshold_std  \n0             0.000341              0.000035         3.680882e-07  \n1             0.001925              0.000049         9.720425e-07  \n2             0.000493              0.000030         1.968829e-06  \n3             0.001382              0.000041         1.069964e-06  \n4             0.001094              0.024189         5.202790e-04  ",
      "text/html": "<div>\n<style scoped>\n    .dataframe tbody tr th:only-of-type {\n        vertical-align: middle;\n    }\n\n    .dataframe tbody tr th {\n        vertical-align: top;\n    }\n\n    .dataframe thead th {\n        text-align: right;\n    }\n</style>\n<table border=\"1\" class=\"dataframe\">\n  <thead>\n    <tr style=\"text-align: right;\">\n      <th></th>\n      <th>correlation_strength</th>\n      <th>bin_size_ratio</th>\n      <th>intervals</th>\n      <th>above_threshold_mean</th>\n      <th>above_threshold_std</th>\n      <th>below_threshold_mean</th>\n      <th>below_threshold_std</th>\n    </tr>\n  </thead>\n  <tbody>\n    <tr>\n      <th>0</th>\n      <td>high</td>\n      <td>0.3</td>\n      <td>[(-0.91, 0.58), (0.58, 0.64), (0.64, 0.71), (0...</td>\n      <td>0.088839</td>\n      <td>0.000341</td>\n      <td>0.000035</td>\n      <td>3.680882e-07</td>\n    </tr>\n    <tr>\n      <th>1</th>\n      <td>high</td>\n      <td>0.2</td>\n      <td>[(-0.91, 0.54), (0.54, 0.59), (0.59, 0.64), (0...</td>\n      <td>0.057659</td>\n      <td>0.001925</td>\n      <td>0.000049</td>\n      <td>9.720425e-07</td>\n    </tr>\n    <tr>\n      <th>2</th>\n      <td>medium</td>\n      <td>0.3</td>\n      <td>[(-0.69, 0.41), (0.41, 0.43), (0.43, 0.46), (0...</td>\n      <td>0.004551</td>\n      <td>0.000493</td>\n      <td>0.000030</td>\n      <td>1.968829e-06</td>\n    </tr>\n    <tr>\n      <th>3</th>\n      <td>medium</td>\n      <td>0.2</td>\n      <td>[(-0.75, 0.41), (0.41, 0.43), (0.43, 0.45), (0...</td>\n      <td>0.003893</td>\n      <td>0.001382</td>\n      <td>0.000041</td>\n      <td>1.069964e-06</td>\n    </tr>\n    <tr>\n      <th>4</th>\n      <td>not_applicable</td>\n      <td>not_applicable</td>\n      <td>[(-0.95, 0.42), (0.42, 0.48), (0.48, 0.57), (0...</td>\n      <td>0.108272</td>\n      <td>0.001094</td>\n      <td>0.024189</td>\n      <td>5.202790e-04</td>\n    </tr>\n  </tbody>\n</table>\n</div>"
     },
     "execution_count": 17,
     "metadata": {},
     "output_type": "execute_result"
    }
   ],
   "source": [
    "results_df\n"
   ],
   "metadata": {
    "collapsed": false,
    "ExecuteTime": {
     "end_time": "2023-12-07T13:51:26.075507Z",
     "start_time": "2023-12-07T13:51:26.070148Z"
    }
   },
   "id": "fc3d623976dee456"
  },
  {
   "cell_type": "code",
   "execution_count": null,
   "outputs": [],
   "source": [],
   "metadata": {
    "collapsed": false
   },
   "id": "f6b733953f42daff"
  }
 ],
 "metadata": {
  "kernelspec": {
   "display_name": "Python 3",
   "language": "python",
   "name": "python3"
  },
  "language_info": {
   "codemirror_mode": {
    "name": "ipython",
    "version": 2
   },
   "file_extension": ".py",
   "mimetype": "text/x-python",
   "name": "python",
   "nbconvert_exporter": "python",
   "pygments_lexer": "ipython2",
   "version": "2.7.6"
  }
 },
 "nbformat": 4,
 "nbformat_minor": 5
}

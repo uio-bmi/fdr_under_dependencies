{
 "cells": [
  {
   "cell_type": "code",
   "execution_count": 2,
   "id": "initial_id",
   "metadata": {
    "collapsed": true,
    "ExecuteTime": {
     "end_time": "2023-12-01T12:44:22.177758Z",
     "start_time": "2023-12-01T12:44:22.175054Z"
    }
   },
   "outputs": [],
   "source": [
    "from fdr_hacking.data_generation import *\n",
    "import numpy as np"
   ]
  },
  {
   "cell_type": "code",
   "execution_count": 9,
   "outputs": [],
   "source": [
    "def proportion_above_threshold(array, threshold):\n",
    "   return np.sum(array > threshold) / array.size\n",
    "\n",
    "def proportion_below_threshold(array, threshold):\n",
    "    return np.sum(array < threshold) / array.size\n",
    "\n",
    "realworld_data_path = \"../data/realworld_methyl_beta.h5\"\n",
    "realworld_data = load_realworld_data(file_path=realworld_data_path)\n",
    "base_config = {\n",
    "    'n_sites': 10000,\n",
    "    'n_observations': 100,\n",
    "    'dependencies': 1,\n",
    "    'bin_size_ratio': 0.3,\n",
    "    'correlation_strength': \"high\"\n",
    "}\n",
    "high_corr_config = base_config.copy()\n",
    "high_corr_smaller_bin_config = base_config.copy()\n",
    "high_corr_smaller_bin_config['bin_size_ratio'] = 0.2\n",
    "medium_corr_config = base_config.copy()\n",
    "medium_corr_config['correlation_strength'] = \"medium\"\n",
    "medium_corr_smaller_bin_config = medium_corr_config.copy()\n",
    "medium_corr_smaller_bin_config['bin_size_ratio'] = 0.2\n",
    "config_dicts = [high_corr_config, high_corr_smaller_bin_config, medium_corr_config, medium_corr_smaller_bin_config]"
   ],
   "metadata": {
    "collapsed": false,
    "ExecuteTime": {
     "end_time": "2023-12-01T13:39:04.724856Z",
     "start_time": "2023-12-01T13:39:04.159967Z"
    }
   },
   "id": "1a738bbe1679261"
  },
  {
   "cell_type": "code",
   "execution_count": 15,
   "outputs": [],
   "source": [
    "n_replicates = 3\n",
    "results_list = []\n",
    "for config in config_dicts:\n",
    "    if config['correlation_strength'] == 'medium':\n",
    "        corr_coef_dist = [(-0.6, -0.4), (-0.1, 0.1), (0.4, 0.6)]\n",
    "    elif config['correlation_strength'] == 'high':\n",
    "        corr_coef_dist = [(-0.85, -0.7), (-0.1, 0.1), (0.7, 0.85)]\n",
    "    sub_results_dict = {\"correlation_strength\": config['correlation_strength'], \"bin_size_ratio\": config['bin_size_ratio'],\n",
    "                    'above_threshold': np.array([]), 'below_threshold': np.array([])}\n",
    "    for i  in range(n_replicates):\n",
    "        simulated_data = simulate_methyl_data(realworld_data, config['n_sites'], config['n_observations'],\n",
    "                                                      config['dependencies'],\n",
    "                                                      int(config['bin_size_ratio'] * config['n_sites']), corr_coef_dist)\n",
    "        corr_mat = determine_correlation_matrix(simulated_data)\n",
    "        corr_mat = np.triu(corr_mat, k=1)\n",
    "        sub_results_dict['above_threshold'] = np.append(sub_results_dict['above_threshold'], proportion_above_threshold(corr_mat, 0.3))\n",
    "        sub_results_dict['below_threshold'] = np.append(sub_results_dict['below_threshold'], proportion_below_threshold(corr_mat, -0.3))\n",
    "    results_list.append(sub_results_dict)\n",
    "sub_results_dict = {\"correlation_strength\": \"not_applicable\", \"bin_size_ratio\": \"not_applicable\",\n",
    "                    'above_threshold': np.array([]), 'below_threshold': np.array([])}\n",
    "for i in range(n_replicates):\n",
    "    semi_real_world_data = sample_realworld_methyl_val(n_sites=10000, realworld_data=realworld_data)\n",
    "    semi_real_world_data = beta_to_m(methyl_beta_values=semi_real_world_data)\n",
    "    np.random.shuffle(semi_real_world_data)\n",
    "    corr_mat = determine_correlation_matrix(semi_real_world_data)\n",
    "    corr_mat = np.triu(corr_mat, k=1)\n",
    "    sub_results_dict['above_threshold'] = np.append(sub_results_dict['above_threshold'], proportion_above_threshold(corr_mat, 0.3))\n",
    "    sub_results_dict['below_threshold'] = np.append(sub_results_dict['below_threshold'], proportion_below_threshold(corr_mat, -0.3))\n",
    "results_list.append(sub_results_dict)"
   ],
   "metadata": {
    "collapsed": false,
    "ExecuteTime": {
     "end_time": "2023-12-01T16:18:32.232919Z",
     "start_time": "2023-12-01T16:03:59.025829Z"
    }
   },
   "id": "a7820fb827f8b989"
  },
  {
   "cell_type": "code",
   "execution_count": 16,
   "outputs": [
    {
     "name": "stdout",
     "output_type": "stream",
     "text": [
      "{'correlation_strength': 'high', 'bin_size_ratio': 0.3, 'above_threshold': array([0.09031837, 0.09028346, 0.09032634, 0.09038125, 0.09034408,\n",
      "       0.09035642, 0.09012616, 0.09038359, 0.09022575, 0.09012184]), 'below_threshold': array([0.00046422, 0.00043147, 0.00042619, 0.00044883, 0.00043371,\n",
      "       0.00047908, 0.00042624, 0.00046024, 0.00047068, 0.00044903]), 'above_threshold_mean': 0.090286726, 'above_threshold_std': 9.259176013015581e-05, 'below_threshold_mean': 0.0004489689999999999, 'below_threshold_std': 1.8199543098660475e-05}\n",
      "{'correlation_strength': 'high', 'bin_size_ratio': 0.2, 'above_threshold': array([0.06030178, 0.06042811, 0.06023728, 0.06037951, 0.06022542,\n",
      "       0.06029617, 0.06012848, 0.06031179, 0.0603552 , 0.06127716]), 'below_threshold': array([0.0004933 , 0.00045266, 0.00067724, 0.000714  , 0.00349072,\n",
      "       0.00051945, 0.00053265, 0.0004669 , 0.00043967, 0.0003948 ]), 'above_threshold_mean': 0.06039409, 'above_threshold_std': 0.00030515002267737036, 'below_threshold_mean': 0.0008181390000000001, 'below_threshold_std': 0.0008960482438066604}\n",
      "{'correlation_strength': 'medium', 'bin_size_ratio': 0.3, 'above_threshold': array([0.03355145, 0.03401876, 0.02416858, 0.02843025, 0.02501027,\n",
      "       0.02197212, 0.03964409, 0.02711762, 0.02258356, 0.0268155 ]), 'below_threshold': array([0.00043983, 0.00043492, 0.0005064 , 0.00054569, 0.00078767,\n",
      "       0.00054515, 0.00065248, 0.0005089 , 0.00053736, 0.00050223]), 'above_threshold_mean': 0.028331219999999997, 'above_threshold_std': 0.005414702282844366, 'below_threshold_mean': 0.0005460630000000001, 'below_threshold_std': 9.914082207143533e-05}\n",
      "{'correlation_strength': 'medium', 'bin_size_ratio': 0.2, 'above_threshold': array([0.02169305, 0.01493313, 0.01389204, 0.0207645 , 0.01475659,\n",
      "       0.01746458, 0.01166805, 0.01899695, 0.01119891, 0.02104773]), 'below_threshold': array([0.00061297, 0.00057316, 0.00063335, 0.00071901, 0.00050961,\n",
      "       0.00061367, 0.00054577, 0.00050272, 0.00051615, 0.00056426]), 'above_threshold_mean': 0.016641552999999996, 'above_threshold_std': 0.003695208917549995, 'below_threshold_mean': 0.000579067, 'below_threshold_std': 6.391555883351093e-05}\n",
      "{'correlation_strength': 'not_applicable', 'bin_size_ratio': 'not_applicable', 'above_threshold': array([0.10746452, 0.10705486, 0.10914681, 0.10807102, 0.10994789,\n",
      "       0.11095012, 0.1069974 , 0.1066499 , 0.10733967, 0.10776101]), 'below_threshold': array([0.02559658, 0.02375904, 0.02454195, 0.02419055, 0.02436322,\n",
      "       0.02513502, 0.02401403, 0.02484628, 0.02430738, 0.02449016]), 'above_threshold_mean': 0.10813831999999998, 'above_threshold_std': 0.0013463852869071316, 'below_threshold_mean': 0.024524420999999998, 'below_threshold_std': 0.0005155870255049097}\n"
     ]
    }
   ],
   "source": [
    "for every_dict in results_list:\n",
    "    every_dict['above_threshold_mean'] = every_dict['above_threshold'].mean()\n",
    "    every_dict['above_threshold_std'] = every_dict['above_threshold'].std()\n",
    "    every_dict['below_threshold_mean'] = every_dict['below_threshold'].mean()\n",
    "    every_dict['below_threshold_std'] = every_dict['below_threshold'].std()\n",
    "    del every_dict['above_threshold']\n",
    "    del every_dict['below_threshold']\n",
    "# make a dataframe of results_list by concatenating all the dicts in the list\n",
    "results_df = pd.DataFrame(results_list)"
   ],
   "metadata": {
    "collapsed": false,
    "ExecuteTime": {
     "end_time": "2023-12-01T16:18:32.238257Z",
     "start_time": "2023-12-01T16:18:32.237152Z"
    }
   },
   "id": "9fec4bbf6e6dce79"
  },
  {
   "cell_type": "code",
   "execution_count": null,
   "outputs": [],
   "source": [],
   "metadata": {
    "collapsed": false
   },
   "id": "fc3d623976dee456"
  }
 ],
 "metadata": {
  "kernelspec": {
   "display_name": "Python 3",
   "language": "python",
   "name": "python3"
  },
  "language_info": {
   "codemirror_mode": {
    "name": "ipython",
    "version": 2
   },
   "file_extension": ".py",
   "mimetype": "text/x-python",
   "name": "python",
   "nbconvert_exporter": "python",
   "pygments_lexer": "ipython2",
   "version": "2.7.6"
  }
 },
 "nbformat": 4,
 "nbformat_minor": 5
}
